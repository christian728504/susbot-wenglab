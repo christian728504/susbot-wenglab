{
 "cells": [
  {
   "cell_type": "code",
   "execution_count": 39,
   "metadata": {},
   "outputs": [],
   "source": [
    "import polars as pl\n",
    "import pyslurm\n",
    "from IPython.display import display\n",
    "import json\n",
    "from datetime import datetime\n",
    "import math"
   ]
  },
  {
   "cell_type": "code",
   "execution_count": null,
   "metadata": {},
   "outputs": [],
   "source": [
    "with open(\"node.json\", \"w\") as f:\n",
    "    json_string = json.dumps(pyslurm.node().get())\n",
    "    json_object = json.loads(json_string)\n",
    "    json.dump(json_object, f, indent=4)"
   ]
  },
  {
   "cell_type": "code",
   "execution_count": null,
   "metadata": {},
   "outputs": [
    {
     "data": {
      "text/html": [
       "<div><style>\n",
       ".dataframe > thead > tr,\n",
       ".dataframe > tbody > tr {\n",
       "  text-align: right;\n",
       "  white-space: pre-wrap;\n",
       "}\n",
       "</style>\n",
       "<small>shape: (5, 12)</small><table border=\"1\" class=\"dataframe\"><thead><tr><th>partitions</th><th>name</th><th>state</th><th>alloc_cpus</th><th>cpus</th><th>gres_used</th><th>gres</th><th>free_mem</th><th>real_memory</th><th>gres_usage</th><th>cpus_usage</th><th>mem_usage</th></tr><tr><td>str</td><td>list[str]</td><td>list[str]</td><td>i64</td><td>i64</td><td>i64</td><td>i64</td><td>f64</td><td>str</td><td>str</td><td>str</td><td>str</td></tr></thead><tbody><tr><td>&quot;30mins&quot;</td><td>[&quot;z1014&quot;, &quot;z1016&quot;, … &quot;z1050&quot;]</td><td>[&quot;IDLE&quot;, &quot;IDLE&quot;, … &quot;MIXED&quot;]</td><td>936</td><td>2408</td><td>0</td><td>0</td><td>4476.0</td><td>&quot;11812.0 GB&quot;</td><td>&quot;&quot;</td><td>&quot;38.87%&quot;</td><td>&quot;62.11%&quot;</td></tr><tr><td>&quot;4hours&quot;</td><td>[&quot;z1014&quot;, &quot;z1016&quot;, … &quot;z1040&quot;]</td><td>[&quot;IDLE&quot;, &quot;IDLE&quot;, … &quot;IDLE&quot;]</td><td>0</td><td>1040</td><td>0</td><td>0</td><td>4064.0</td><td>&quot;5026.0 GB&quot;</td><td>&quot;&quot;</td><td>&quot;0.0%&quot;</td><td>&quot;19.14%&quot;</td></tr><tr><td>&quot;12hours&quot;</td><td>[&quot;z1021&quot;, &quot;z1022&quot;, … &quot;z1053&quot;]</td><td>[&quot;MIXED&quot;, &quot;MIXED&quot;, … &quot;MIXED&quot;]</td><td>1080</td><td>1560</td><td>0</td><td>0</td><td>527.0</td><td>&quot;7539.0 GB&quot;</td><td>&quot;&quot;</td><td>&quot;69.23%&quot;</td><td>&quot;93.01%&quot;</td></tr><tr><td>&quot;5days&quot;</td><td>[&quot;z1014&quot;, &quot;z1016&quot;, … &quot;z1053&quot;]</td><td>[&quot;IDLE&quot;, &quot;IDLE&quot;, … &quot;MIXED&quot;]</td><td>576</td><td>1296</td><td>0</td><td>0</td><td>2973.0</td><td>&quot;6030.0 GB&quot;</td><td>&quot;&quot;</td><td>&quot;44.44%&quot;</td><td>&quot;50.7%&quot;</td></tr><tr><td>&quot;gpu&quot;</td><td>[&quot;z018&quot;, &quot;z019&quot;]</td><td>[&quot;IDLE&quot;, &quot;IDLE&quot;]</td><td>0</td><td>64</td><td>0</td><td>8</td><td>416.0</td><td>&quot;752.0 GB&quot;</td><td>&quot;0.0%&quot;</td><td>&quot;0.0%&quot;</td><td>&quot;44.68%&quot;</td></tr></tbody></table></div>"
      ],
      "text/plain": [
       "shape: (5, 12)\n",
       "┌───────────┬───────────┬───────────┬───────────┬───┬───────────┬───────────┬───────────┬──────────┐\n",
       "│ partition ┆ name      ┆ state     ┆ alloc_cpu ┆ … ┆ real_memo ┆ gres_usag ┆ cpus_usag ┆ mem_usag │\n",
       "│ s         ┆ ---       ┆ ---       ┆ s         ┆   ┆ ry        ┆ e         ┆ e         ┆ e        │\n",
       "│ ---       ┆ list[str] ┆ list[str] ┆ ---       ┆   ┆ ---       ┆ ---       ┆ ---       ┆ ---      │\n",
       "│ str       ┆           ┆           ┆ i64       ┆   ┆ str       ┆ str       ┆ str       ┆ str      │\n",
       "╞═══════════╪═══════════╪═══════════╪═══════════╪═══╪═══════════╪═══════════╪═══════════╪══════════╡\n",
       "│ 30mins    ┆ [\"z1014\", ┆ [\"IDLE\",  ┆ 936       ┆ … ┆ 11812.0   ┆           ┆ 38.87%    ┆ 62.11%   │\n",
       "│           ┆ \"z1016\",  ┆ \"IDLE\", … ┆           ┆   ┆ GB        ┆           ┆           ┆          │\n",
       "│           ┆ …         ┆ \"MIXED\"]  ┆           ┆   ┆           ┆           ┆           ┆          │\n",
       "│           ┆ \"z1050\"]  ┆           ┆           ┆   ┆           ┆           ┆           ┆          │\n",
       "│ 4hours    ┆ [\"z1014\", ┆ [\"IDLE\",  ┆ 0         ┆ … ┆ 5026.0 GB ┆           ┆ 0.0%      ┆ 19.14%   │\n",
       "│           ┆ \"z1016\",  ┆ \"IDLE\", … ┆           ┆   ┆           ┆           ┆           ┆          │\n",
       "│           ┆ …         ┆ \"IDLE\"]   ┆           ┆   ┆           ┆           ┆           ┆          │\n",
       "│           ┆ \"z1040\"]  ┆           ┆           ┆   ┆           ┆           ┆           ┆          │\n",
       "│ 12hours   ┆ [\"z1021\", ┆ [\"MIXED\", ┆ 1080      ┆ … ┆ 7539.0 GB ┆           ┆ 69.23%    ┆ 93.01%   │\n",
       "│           ┆ \"z1022\",  ┆ \"MIXED\",  ┆           ┆   ┆           ┆           ┆           ┆          │\n",
       "│           ┆ …         ┆ …         ┆           ┆   ┆           ┆           ┆           ┆          │\n",
       "│           ┆ \"z1053\"]  ┆ \"MIXED\"]  ┆           ┆   ┆           ┆           ┆           ┆          │\n",
       "│ 5days     ┆ [\"z1014\", ┆ [\"IDLE\",  ┆ 576       ┆ … ┆ 6030.0 GB ┆           ┆ 44.44%    ┆ 50.7%    │\n",
       "│           ┆ \"z1016\",  ┆ \"IDLE\", … ┆           ┆   ┆           ┆           ┆           ┆          │\n",
       "│           ┆ …         ┆ \"MIXED\"]  ┆           ┆   ┆           ┆           ┆           ┆          │\n",
       "│           ┆ \"z1053\"]  ┆           ┆           ┆   ┆           ┆           ┆           ┆          │\n",
       "│ gpu       ┆ [\"z018\",  ┆ [\"IDLE\",  ┆ 0         ┆ … ┆ 752.0 GB  ┆ 0.0%      ┆ 0.0%      ┆ 44.68%   │\n",
       "│           ┆ \"z019\"]   ┆ \"IDLE\"]   ┆           ┆   ┆           ┆           ┆           ┆          │\n",
       "└───────────┴───────────┴───────────┴───────────┴───┴───────────┴───────────┴───────────┴──────────┘"
      ]
     },
     "metadata": {},
     "output_type": "display_data"
    },
    {
     "name": "stdout",
     "output_type": "stream",
     "text": [
      "(5, 12)\n"
     ]
    }
   ],
   "source": [
    "# Process node data\n",
    "\n",
    "json_string = json.dumps(pyslurm.node().get())\n",
    "json_object = json.loads(json_string)\n",
    "p = [v for v in json_object.values()]\n",
    "node_df = pl.DataFrame(p)\n",
    "node_df = node_df.drop([\"core_spec_cnt\", \"cpu_spec_list\", \"core_spec_cnt\", \"extra\", \"features\", \"features_active\", \"mcs_label\", \"mem_spec_limit\", \"owner\", \"tmp_disk\", \"reason_time\", \"reason\", \"reason_uid\", \"power_mgmt\", \"energy\"])\n",
    "node_df = node_df.with_columns(pl.col(\"last_busy\", \"slurmd_start_time\").map_elements(lambda x: datetime.fromtimestamp(x), return_dtype=pl.Datetime))\n",
    "node_df = node_df.with_columns(pl.col(\"last_busy\", \"slurmd_start_time\").map_elements(lambda x: x.strftime(\"%Y-%m-%d %H:%M:%S\"), return_dtype=pl.Utf8))\n",
    "node_df = node_df.with_columns(pl.col(\"gres\", \"gres_used\").list.first())\n",
    "node_df = node_df.with_columns(pl.col(\"gres\", \"gres_used\").map_elements(lambda x: int(x.split(\":\")[-1]) if isinstance(x, str) else x, return_dtype=pl.Int64))\n",
    "node_df = node_df.with_columns(pl.col(\"gres\", \"gres_used\").fill_null(0))\n",
    "node_df = node_df.with_columns([\n",
    "    (pl.col(\"real_memory\") / 1024).floor(),\n",
    "    (pl.col(\"free_mem\") / 1024).floor()\n",
    "])\n",
    "node_df = node_df.filter(~pl.col(\"name\").is_in([f\"z0{i}\" for i in range(10, 17)]))\n",
    "# Le magic #\n",
    "node_df = node_df.explode(\"partitions\")\n",
    "node_df = node_df.group_by(\"partitions\").agg(pl.col(\"name\"), pl.col(\"state\"), pl.col(\"alloc_cpus\").sum(), pl.col(\"cpus\").sum(), pl.col(\"gres_used\").sum(), pl.col(\"gres\").sum(), pl.col(\"free_mem\").sum(), pl.col(\"real_memory\").sum())\n",
    "# End of le magic #\n",
    "node_df = node_df.with_columns(\n",
    "    pl.concat_str([\n",
    "        ((pl.col(\"gres_used\") / pl.col(\"gres\")) * 100).round(2).cast(pl.Utf8),\n",
    "        pl.lit(\"%\"),\n",
    "    ]).alias(\"gres_usage\")\n",
    ")\n",
    "node_df = node_df.with_columns(\n",
    "    pl.concat_str([\n",
    "        ((pl.col(\"alloc_cpus\") / pl.col(\"cpus\")) * 100).round(2).cast(pl.Utf8),\n",
    "        pl.lit(\"%\")\n",
    "    ]).alias(\"cpus_usage\")\n",
    ")\n",
    "node_df = node_df.with_columns(\n",
    "    pl.concat_str([\n",
    "        (((pl.col(\"real_memory\") - pl.col(\"free_mem\")) / pl.col(\"real_memory\")) * 100).round(2).cast(pl.Utf8),\n",
    "        pl.lit(\"%\")\n",
    "    ]).alias(\"mem_usage\")\n",
    ")\n",
    "node_df = node_df.with_columns(\n",
    "    pl.concat_str([\n",
    "        (pl.col(\"real_memory\").cast(pl.Utf8)),\n",
    "        pl.lit(\" GB\"),\n",
    "    ])\n",
    ")\n",
    "node_df = node_df.with_columns(pl.col(\"gres_usage\").replace(\"NaN%\", \"\"))\n",
    "custom_order = [\"30mins\", \"4hours\", \"12hours\", \"5days\", \"gpu\"]\n",
    "order_dict = {val: i for i, val in enumerate(custom_order)}\n",
    "node_df = (node_df\n",
    "    .with_columns(\n",
    "        pl.col(\"partitions\").map_elements(lambda x: order_dict.get(x), return_dtype=pl.Int64).alias(\"__sort_key\")\n",
    "    )\n",
    "    .sort(\"__sort_key\")\n",
    "    .drop(\"__sort_key\")\n",
    ")\n",
    "display(node_df.head(10))\n",
    "print(node_df.shape)"
   ]
  },
  {
   "cell_type": "code",
   "execution_count": null,
   "metadata": {},
   "outputs": [],
   "source": [
    "with open(\"jobs.json\", \"w\") as f:\n",
    "    json_string = json.dumps(pyslurm.job().get())\n",
    "    json_object = json.loads(json_string)\n",
    "    json.dump(json_object, f, indent=4)"
   ]
  },
  {
   "cell_type": "code",
   "execution_count": 49,
   "metadata": {},
   "outputs": [
    {
     "data": {
      "text/html": [
       "<div><style>\n",
       ".dataframe > thead > tr,\n",
       ".dataframe > tbody > tr {\n",
       "  text-align: right;\n",
       "  white-space: pre-wrap;\n",
       "}\n",
       "</style>\n",
       "<small>shape: (10, 8)</small><table border=\"1\" class=\"dataframe\"><thead><tr><th>id</th><th>name</th><th>partition</th><th>nodes</th><th>num_nodes</th><th>job_state</th><th>run_time_str</th><th>user_id</th></tr><tr><td>str</td><td>str</td><td>str</td><td>str</td><td>i64</td><td>str</td><td>str</td><td>str</td></tr></thead><tbody><tr><td>&quot;492166&quot;</td><td>&quot;e3faf13b-2922-4712-856d-15f38a…</td><td>&quot;12hours&quot;</td><td>&quot;z1049&quot;</td><td>1</td><td>&quot;COMPLETED&quot;</td><td>&quot;3 hours 46 secs&quot;</td><td>&quot;14004&quot;</td></tr><tr><td>&quot;492410&quot;</td><td>&quot;61850e9f-e2b3-4da2-a790-5dbe8d…</td><td>&quot;gpu&quot;</td><td>&quot;z018&quot;</td><td>1</td><td>&quot;RUNNING&quot;</td><td>&quot;2 hours 52 mins 58 secs&quot;</td><td>&quot;14004&quot;</td></tr><tr><td>&quot;492411&quot;</td><td>&quot;61850e9f-e2b3-4da2-a790-5dbe8d…</td><td>&quot;gpu&quot;</td><td>&quot;z019&quot;</td><td>1</td><td>&quot;RUNNING&quot;</td><td>&quot;2 hours 52 mins 58 secs&quot;</td><td>&quot;14004&quot;</td></tr><tr><td>&quot;492412&quot;</td><td>&quot;61850e9f-e2b3-4da2-a790-5dbe8d…</td><td>&quot;gpu&quot;</td><td>&quot;z018&quot;</td><td>1</td><td>&quot;RUNNING&quot;</td><td>&quot;2 hours 52 mins 58 secs&quot;</td><td>&quot;14004&quot;</td></tr><tr><td>&quot;492413&quot;</td><td>&quot;61850e9f-e2b3-4da2-a790-5dbe8d…</td><td>&quot;gpu&quot;</td><td>&quot;z019&quot;</td><td>1</td><td>&quot;RUNNING&quot;</td><td>&quot;2 hours 52 mins 58 secs&quot;</td><td>&quot;14004&quot;</td></tr><tr><td>&quot;492414&quot;</td><td>&quot;61850e9f-e2b3-4da2-a790-5dbe8d…</td><td>&quot;gpu&quot;</td><td>&quot;z018&quot;</td><td>1</td><td>&quot;RUNNING&quot;</td><td>&quot;2 hours 52 mins 58 secs&quot;</td><td>&quot;14004&quot;</td></tr><tr><td>&quot;492415&quot;</td><td>&quot;61850e9f-e2b3-4da2-a790-5dbe8d…</td><td>&quot;gpu&quot;</td><td>&quot;z019&quot;</td><td>1</td><td>&quot;RUNNING&quot;</td><td>&quot;2 hours 52 mins 58 secs&quot;</td><td>&quot;14004&quot;</td></tr><tr><td>&quot;492416&quot;</td><td>&quot;61850e9f-e2b3-4da2-a790-5dbe8d…</td><td>&quot;gpu&quot;</td><td>&quot;z018&quot;</td><td>1</td><td>&quot;RUNNING&quot;</td><td>&quot;2 hours 52 mins 58 secs&quot;</td><td>&quot;14004&quot;</td></tr><tr><td>&quot;492417&quot;</td><td>&quot;61850e9f-e2b3-4da2-a790-5dbe8d…</td><td>&quot;gpu&quot;</td><td>&quot;z019&quot;</td><td>1</td><td>&quot;RUNNING&quot;</td><td>&quot;2 hours 52 mins 58 secs&quot;</td><td>&quot;14004&quot;</td></tr><tr><td>&quot;493983&quot;</td><td>&quot;Ld_job&quot;</td><td>&quot;5days&quot;</td><td>&quot;z1014&quot;</td><td>1</td><td>&quot;RUNNING&quot;</td><td>&quot;1 hour 37 mins 6 secs&quot;</td><td>&quot;1514701014&quot;</td></tr></tbody></table></div>"
      ],
      "text/plain": [
       "shape: (10, 8)\n",
       "┌────────┬────────────────┬───────────┬───────┬───────────┬───────────┬───────────────┬────────────┐\n",
       "│ id     ┆ name           ┆ partition ┆ nodes ┆ num_nodes ┆ job_state ┆ run_time_str  ┆ user_id    │\n",
       "│ ---    ┆ ---            ┆ ---       ┆ ---   ┆ ---       ┆ ---       ┆ ---           ┆ ---        │\n",
       "│ str    ┆ str            ┆ str       ┆ str   ┆ i64       ┆ str       ┆ str           ┆ str        │\n",
       "╞════════╪════════════════╪═══════════╪═══════╪═══════════╪═══════════╪═══════════════╪════════════╡\n",
       "│ 492166 ┆ e3faf13b-2922- ┆ 12hours   ┆ z1049 ┆ 1         ┆ COMPLETED ┆ 3 hours 46    ┆ 14004      │\n",
       "│        ┆ 4712-856d-15f3 ┆           ┆       ┆           ┆           ┆ secs          ┆            │\n",
       "│        ┆ 8a…            ┆           ┆       ┆           ┆           ┆               ┆            │\n",
       "│ 492410 ┆ 61850e9f-e2b3- ┆ gpu       ┆ z018  ┆ 1         ┆ RUNNING   ┆ 2 hours 52    ┆ 14004      │\n",
       "│        ┆ 4da2-a790-5dbe ┆           ┆       ┆           ┆           ┆ mins 58 secs  ┆            │\n",
       "│        ┆ 8d…            ┆           ┆       ┆           ┆           ┆               ┆            │\n",
       "│ 492411 ┆ 61850e9f-e2b3- ┆ gpu       ┆ z019  ┆ 1         ┆ RUNNING   ┆ 2 hours 52    ┆ 14004      │\n",
       "│        ┆ 4da2-a790-5dbe ┆           ┆       ┆           ┆           ┆ mins 58 secs  ┆            │\n",
       "│        ┆ 8d…            ┆           ┆       ┆           ┆           ┆               ┆            │\n",
       "│ 492412 ┆ 61850e9f-e2b3- ┆ gpu       ┆ z018  ┆ 1         ┆ RUNNING   ┆ 2 hours 52    ┆ 14004      │\n",
       "│        ┆ 4da2-a790-5dbe ┆           ┆       ┆           ┆           ┆ mins 58 secs  ┆            │\n",
       "│        ┆ 8d…            ┆           ┆       ┆           ┆           ┆               ┆            │\n",
       "│ 492413 ┆ 61850e9f-e2b3- ┆ gpu       ┆ z019  ┆ 1         ┆ RUNNING   ┆ 2 hours 52    ┆ 14004      │\n",
       "│        ┆ 4da2-a790-5dbe ┆           ┆       ┆           ┆           ┆ mins 58 secs  ┆            │\n",
       "│        ┆ 8d…            ┆           ┆       ┆           ┆           ┆               ┆            │\n",
       "│ 492414 ┆ 61850e9f-e2b3- ┆ gpu       ┆ z018  ┆ 1         ┆ RUNNING   ┆ 2 hours 52    ┆ 14004      │\n",
       "│        ┆ 4da2-a790-5dbe ┆           ┆       ┆           ┆           ┆ mins 58 secs  ┆            │\n",
       "│        ┆ 8d…            ┆           ┆       ┆           ┆           ┆               ┆            │\n",
       "│ 492415 ┆ 61850e9f-e2b3- ┆ gpu       ┆ z019  ┆ 1         ┆ RUNNING   ┆ 2 hours 52    ┆ 14004      │\n",
       "│        ┆ 4da2-a790-5dbe ┆           ┆       ┆           ┆           ┆ mins 58 secs  ┆            │\n",
       "│        ┆ 8d…            ┆           ┆       ┆           ┆           ┆               ┆            │\n",
       "│ 492416 ┆ 61850e9f-e2b3- ┆ gpu       ┆ z018  ┆ 1         ┆ RUNNING   ┆ 2 hours 52    ┆ 14004      │\n",
       "│        ┆ 4da2-a790-5dbe ┆           ┆       ┆           ┆           ┆ mins 58 secs  ┆            │\n",
       "│        ┆ 8d…            ┆           ┆       ┆           ┆           ┆               ┆            │\n",
       "│ 492417 ┆ 61850e9f-e2b3- ┆ gpu       ┆ z019  ┆ 1         ┆ RUNNING   ┆ 2 hours 52    ┆ 14004      │\n",
       "│        ┆ 4da2-a790-5dbe ┆           ┆       ┆           ┆           ┆ mins 58 secs  ┆            │\n",
       "│        ┆ 8d…            ┆           ┆       ┆           ┆           ┆               ┆            │\n",
       "│ 493983 ┆ Ld_job         ┆ 5days     ┆ z1014 ┆ 1         ┆ RUNNING   ┆ 1 hour 37     ┆ 1514701014 │\n",
       "│        ┆                ┆           ┆       ┆           ┆           ┆ mins 6 secs   ┆            │\n",
       "└────────┴────────────────┴───────────┴───────┴───────────┴───────────┴───────────────┴────────────┘"
      ]
     },
     "metadata": {},
     "output_type": "display_data"
    }
   ],
   "source": [
    "def _format_time(seconds):\n",
    "    days = int(seconds / (24 * 60 * 60))\n",
    "    hours = int((seconds % (24 * 60 * 60)) / (60 * 60))\n",
    "    mins = int((seconds % (60 * 60)) / 60)\n",
    "    secs = int(seconds % 60)\n",
    "\n",
    "    parts = []\n",
    "    if days > 0:\n",
    "        parts.append(f\"{days} day{'s' if days != 1 else ''}\")\n",
    "    if hours > 0:\n",
    "        parts.append(f\"{hours} hour{'s' if hours != 1 else ''}\")\n",
    "    if mins > 0:\n",
    "        parts.append(f\"{mins} min{'s' if mins != 1 else ''}\")\n",
    "    if secs > 0 or (days == 0 and hours == 0 and mins == 0):\n",
    "        parts.append(f\"{secs} sec{'s' if secs != 1 else ''}\")\n",
    "\n",
    "    return \" \".join(parts)\n",
    "\n",
    "jobs_json_string = json.dumps(pyslurm.job().get())\n",
    "jobs_json = json.loads(jobs_json_string)\n",
    "jobs = []\n",
    "for k, v in jobs_json.items():\n",
    "    v.update({\"id\": k})\n",
    "    jobs.append(v)\n",
    "jobs_df = pl.DataFrame(jobs, infer_schema_length=None)\n",
    "jobs_df = jobs_df.drop([\"cpus_allocated\", \"cpus_alloc_layout\"])\n",
    "jobs_df = jobs_df.with_columns(pl.col(\"eligible_time\", \"end_time\", \"start_time\", \"submit_time\").map_elements(lambda x: datetime.fromtimestamp(x), return_dtype=pl.Datetime))\n",
    "jobs_df = jobs_df.with_columns(pl.col(\"run_time\").map_elements(lambda x: _format_time(x), return_dtype=pl.Utf8).alias(\"run_time_str\"))\n",
    "jobs_df = jobs_df.with_columns(pl.col(\"user_id\").cast(pl.Utf8))\n",
    "jobs_df = jobs_df.select(\"id\", \"name\", \"partition\", \"nodes\", \"num_nodes\", \"job_state\", \"run_time_str\", \"user_id\")\n",
    "display(jobs_df.head(10))"
   ]
  },
  {
   "cell_type": "code",
   "execution_count": 41,
   "metadata": {},
   "outputs": [],
   "source": [
    "with open(\"statistics.json\", \"w\") as f:\n",
    "    json_string = json.dumps(pyslurm.statistics().get())\n",
    "    json_object = json.loads(json_string)\n",
    "    json.dump(json_object, f, indent=4)"
   ]
  },
  {
   "cell_type": "code",
   "execution_count": null,
   "metadata": {},
   "outputs": [],
   "source": [
    "jobs_json_string = json.dumps(pyslurm.statistics().get())\n",
    "jobs_json = json.loads(jobs_json_string)\n",
    "rpc_type_stats = jobs_json.pop(\"rpc_type_stats\")\n",
    "rpc_user_stats = jobs_json.pop(\"rpc_user_stats\")\n",
    "statistics_df_1 = pl.DataFrame(jobs_json, infer_schema_length=None)\n",
    "statistics_2 = []\n",
    "for k, v in rpc_type_stats.items():\n",
    "    v.update({\"type\": k})\n",
    "    statistics_2.append(v)\n",
    "statistics_3 = []\n",
    "for k, v in rpc_user_stats.items():\n",
    "    v.update({\"user\": k})\n",
    "    statistics_3.append(v)\n",
    "statistics_df_2 = pl.DataFrame(statistics_2)\n",
    "statistics_df_3 = pl.DataFrame(statistics_3)\n",
    "statistics_df_3 = statistics_df_3.with_columns(pl.col(\"total_time\").map_elements(lambda x: f\"{((x / 10e6))} seconds\", return_dtype=pl.Utf8).alias(\"total_time_str\"))\n",
    "display(statistics_df_1.head(10))\n",
    "display(statistics_df_2.head(10))\n",
    "display(statistics_df_3)"
   ]
  },
  {
   "cell_type": "code",
   "execution_count": null,
   "metadata": {},
   "outputs": [],
   "source": [
    "empty = pl.DataFrame()\n",
    "if empty.is_empty():\n",
    "    print(\"Falsy\")\n",
    "else:\n",
    "    print(\"Truthy\")"
   ]
  },
  {
   "cell_type": "code",
   "execution_count": null,
   "metadata": {},
   "outputs": [],
   "source": [
    "list_of_column_names = node_df.select(\"name\", \"state\").columns\n",
    "print(list_of_column_names)"
   ]
  },
  {
   "cell_type": "code",
   "execution_count": null,
   "metadata": {},
   "outputs": [],
   "source": [
    "for column in node_df.select(\"name\", \"state\").iter_columns():\n",
    "    print(column.to_list())"
   ]
  },
  {
   "cell_type": "code",
   "execution_count": 9,
   "metadata": {},
   "outputs": [
    {
     "name": "stdout",
     "output_type": "stream",
     "text": [
      "+------------+------+-----------+------------+-----------+------+-----------+\n",
      "| Partitions | CPUs | CPU usage |    RAM     | RAM usage | GPUs | GPU usage |\n",
      "+------------+------+-----------+------------+-----------+------+-----------+\n",
      "|   30mins   | 2408 |   38.87%  | 11812.0 GB |   62.11%  |  0   |           |\n",
      "|   4hours   | 1040 |    0.0%   | 5026.0 GB  |   19.14%  |  0   |           |\n",
      "|  12hours   | 1560 |   69.23%  | 7539.0 GB  |   93.01%  |  0   |           |\n",
      "|   5days    | 1296 |   44.44%  | 6030.0 GB  |   50.7%   |  0   |           |\n",
      "|    gpu     |  64  |    0.0%   |  752.0 GB  |   44.68%  |  8   |    0.0%   |\n",
      "+------------+------+-----------+------------+-----------+------+-----------+\n",
      "<class 'str'>\n"
     ]
    }
   ],
   "source": [
    "from prettytable import PrettyTable\n",
    "\n",
    "pretty_column_names = {\"partitions\": \"Partitions\", \"cpus\": \"CPUs\", \"cpus_usage\": \"CPU usage\", \"real_memory\": \"RAM\", \"mem_usage\": \"RAM usage\", \"gres\": \"GPUs\", \"gres_usage\": \"GPU usage\"}\n",
    "    \n",
    "node_df_selection = node_df.select(\"partitions\", \"cpus\", \"cpus_usage\", \"real_memory\", \"mem_usage\", \"gres\", \"gres_usage\")\n",
    "\n",
    "table = PrettyTable()\n",
    "table.field_names = [pretty_column_names.get(col) for col in node_df_selection.columns]\n",
    "for row in node_df_selection.iter_rows():\n",
    "    table.add_row(list(row))\n",
    "\n",
    "print(table)\n",
    "print(type(table.get_string()))"
   ]
  },
  {
   "cell_type": "code",
   "execution_count": 13,
   "metadata": {},
   "outputs": [
    {
     "name": "stdout",
     "output_type": "stream",
     "text": [
      "{'30mins': ['z1014', 'z1016', 'z1017', 'z1018', 'z1019', 'z1020', 'z1021', 'z1022', 'z1023', 'z1024', 'z1025', 'z1026', 'z1027', 'z1028', 'z1029', 'z1032', 'z1033', 'z1034', 'z1035', 'z1036', 'z1038', 'z1039', 'z1040', 'z1041', 'z1042', 'z1043', 'z1044', 'z1045', 'z1047', 'z1048', 'z1049', 'z1050'], '4hours': ['z1014', 'z1016', 'z1017', 'z1018', 'z1019', 'z1020', 'z1032', 'z1033', 'z1034', 'z1035', 'z1036', 'z1038', 'z1039', 'z1040'], '12hours': ['z1021', 'z1022', 'z1023', 'z1024', 'z1025', 'z1026', 'z1027', 'z1028', 'z1029', 'z1041', 'z1042', 'z1043', 'z1044', 'z1045', 'z1047', 'z1048', 'z1049', 'z1050', 'z1051', 'z1052', 'z1053'], '5days': ['z1014', 'z1016', 'z1017', 'z1018', 'z1019', 'z1020', 'z1041', 'z1042', 'z1043', 'z1044', 'z1045', 'z1047', 'z1048', 'z1049', 'z1050', 'z1051', 'z1052', 'z1053'], 'gpu': ['z018', 'z019']}\n"
     ]
    }
   ],
   "source": [
    "map = {}\n",
    "for row in node_df.select(\"partitions\", \"name\").iter_rows():\n",
    "    (k, v) = row\n",
    "    map.update({k: v})\n",
    "    \n",
    "print(map)"
   ]
  },
  {
   "cell_type": "code",
   "execution_count": null,
   "metadata": {},
   "outputs": [
    {
     "name": "stdout",
     "output_type": "stream",
     "text": [
      "pyslurm.Partitions()\n"
     ]
    }
   ],
   "source": [
    "print()"
   ]
  },
  {
   "cell_type": "code",
   "execution_count": null,
   "metadata": {},
   "outputs": [
    {
     "name": "stdout",
     "output_type": "stream",
     "text": [
      "[User(username='liuj', uid='11029', gecos='Jiangyuan Liu'), User(username='zhuangj', uid='10229', gecos='Jiali Zhuang'), User(username='jacksoni', uid='11050', gecos='Isabella Jackson'), User(username='campbellm', uid='1514701014', gecos='Max Campbell'), User(username='vanderva', uid='10589', gecos='Arjan van der Velde'), User(username='perezc1', uid='11060', gecos='Claudia Perez'), User(username='purcarom', uid='10463', gecos='Michael Purcaro'), User(username='zhongrenhu', uid='11017', gecos='Zhongren Hu'), User(username='bhattaa', uid='1514601466', gecos='Agamoni Bhattacharyya'), User(username='pierceb', uid='13000', gecos='Brian Pierce'), User(username='vrevent', uid='10486', gecos='Thom Vreven'), User(username='elnesro', uid='11049', gecos='Omar El Nesr'), User(username='haasn', uid='14010', gecos='Natalie Haas'), User(username='hattonc', uid='1514601457', gecos='Courtney Hatton'), User(username='andrewsg', uid='14004', gecos='Greg Andrews'), User(username='hustonm', uid='1514701025', gecos='Meg Huston'), User(username='bodangis', uid='1514701018', gecos='Samhitha Bodangi'), User(username='sheddn', uid='11034', gecos='Nicole Shedd'), User(username='panil', uid='1514701007', gecos='Lagnajeet Panigrahi'), User(username='doukun', uid='11045', gecos='doukin doukun'), User(username='wongm', uid='11067', gecos='Matthew Wong'), User(username='lotunn', uid='1514701008', gecos='Nishtha Lotun'), User(username='caoj', uid='11023', gecos='Jichuan Cao'), User(username='borrmant', uid='10610', gecos='Tyler Borrman'), User(username='javanbam', uid='10965', gecos='Mercedeh Javanbakht Movassagh'), User(username='gainesj1', uid='11018', gecos='Jennifer Gaines'), User(username='wengz', uid='1514701011', gecos='Zhiping Weng'), User(username='likhitem', uid='1514701013', gecos='Mary Likhite'), User(username='chittau', uid='11065', gecos='Udbhav Chitta'), User(username='zhangpeng', uid='11002', gecos='Peng Zhang'), User(username='puchm', uid='11053', gecos='Michelle Puch'), User(username='fuy2', uid='10588', gecos='Yu Fu'), User(username='zhonga', uid='1514701005', gecos='Alex Zhong'), User(username='wangqin', uid='11005', gecos='Qin Wang'), User(username='sambares', uid='1514601458', gecos='Snehal Sambare'), User(username='cooperd', uid='11055', gecos='David Cooper'), User(username='prescottl', uid='11061', gecos='Lucas Prescott'), User(username='peerzades', uid='11035', gecos='Sahar Peerzade'), User(username='fuy3', uid='11022', gecos='Yu Fu (2)'), User(username='shans', uid='11521', gecos='Shuo Shan'), User(username='wangj2', uid='10058', gecos='Jie Wang'), User(username='temirbeka', uid='11051', gecos='Askar Temirbek'), User(username='fankaili', uid='14002', gecos='Kaili Fan'), User(username='phanh', uid='11068', gecos='Huong Phan'), User(username='ramirezc', uid='1514701009', gecos='Christian Ramirez'), User(username='siddiquiz', uid='1514701017', gecos='Zeeshan Siddiqui'), User(username='pettia', uid='1514701000', gecos='Andrew Petti'), User(username='funkm', uid='1514701026', gecos='Matthew Funk'), User(username='xis', uid='11021', gecos='Simon Xi'), User(username='lijiahong', uid='14005', gecos='Jiahong Li'), User(username='nghiemx', uid='14000', gecos='Xuan Nghiem'), User(username='shih', uid='11036', gecos='Hanxi Shi'), User(username='boxu', uid='11016', gecos='Xu Bo'), User(username='cailing', uid='11000', gecos='Lingling Cai'), User(username='zhangw', uid='13004', gecos='Will Zhang'), User(username='songc', uid='12009', gecos='Chun-Qing Song'), User(username='yangc2', uid='1514701004', gecos='Chris Yang'), User(username='liying', uid='11011', gecos='Ying Li'), User(username='wangy', uid='1514701010', gecos='Yuhe Wang'), User(username='weizhijie', uid='11012', gecos='Zhijie Wei'), User(username='youngt1', uid='10737', gecos='Taylor Young'), User(username='kresgeb', uid='1514701022', gecos='Ben Kresge'), User(username='mhatrea', uid='1514701015', gecos='Anisha Mhatre'), User(username='elbak', uid='11028', gecos='Kevin Elaba'), User(username='swofforr', uid='1514601460', gecos='Ross Swofford'), User(username='niship', uid='14009', gecos='Nishigandha Phalke'), User(username='prathir', uid='1514701006', gecos='Rishith Prathi'), User(username='liangh', uid='11037', gecos='Haoda Liang'), User(username='dugase', uid='1514701016', gecos='Evan Dugas'), User(username='velezbombaj', uid='11048', gecos='Jordan Velez-Bomba'), User(username='zhiping', uid='1514701012', gecos='zhiping weng'), User(username='chenx', uid='11020', gecos='Xin Chen'), User(username='garnickk', uid='11212', gecos='Kyle Garnick'), User(username='bouchera', uid='1514601464', gecos='Alexander Boucher'), User(username='matteie', uid='10974', gecos='Eugenio Mattei'), User(username='chenh7', uid='10758', gecos='Hao Chen'), User(username='rojasramirezk', uid='11062', gecos='Karol Rojasramirez'), User(username='lauant', uid='1514701024', gecos='Anthony Lau'), User(username='chenv', uid='1514701023', gecos='Victor Chen'), User(username='brooksj', uid='11010', gecos='Jason Brooks'), User(username='yuzhang', uid='11009', gecos='Yu Zhang'), User(username='tus', uid='10507', gecos='Shikui Tu'), User(username='tsujij', uid='10557', gecos='Junko Tsuji'), User(username='earle', uid='13005', gecos='Emily Earl'), User(username='moorej3', uid='10336', gecos='Jill Moore'), User(username='yadavp', uid='1514601456', gecos='Palak Yadav'), User(username='vangaves', uid='14001', gecos='Sweta Vangaveti'), User(username='gaomingshi', uid='14006', gecos='Mingshi Gao'), User(username='ailingl', uid='11014', gecos='Aiping Lv'), User(username='hueyj', uid='11213', gecos='Jack Huey'), User(username='elhajjajys', uid='13003', gecos='Shaimae Elhajjajy'), User(username='fushal', uid='11004', gecos='Shaliu Fu'), User(username='huangxiao', uid='11003', gecos='Xiao Huang'), User(username='houshuyu', uid='11013', gecos='Shuyu Hou'), User(username='leshchyka', uid='11027', gecos='Anastasia Leshchyk'), User(username='abdenn', uid='11044', gecos='Nezar Abdennur'), User(username='zhangx', uid='11162', gecos='Xiao-Ou Zhang'), User(username='funka', uid='1514701021', gecos='Alyssa Funk'), User(username='fortierk', uid='11024', gecos='Kevin Fortier'), User(username='fisherj', uid='11056', gecos='Jonathan Fisher'), User(username='thangavg', uid='13002', gecos='Ganapathiram Thangavel Arivudainambi'), User(username='reimonnt', uid='11019', gecos='Thomas Reimonn'), User(username='galloh', uid='11066', gecos='Hayden Gallo'), User(username='yimanwang', uid='11015', gecos='Wang Yiman'), User(username='pratth', uid='10966', gecos='Henry Pratt'), User(username='lixiangr', uid='11007', gecos='Xiangrui Li'), User(username='yutianx', uid='11001', gecos='Tianxiong Yu'), User(username='liangy', uid='11038', gecos='Ye Liang'), User(username='patelr', uid='11041', gecos='Ruchin Patel'), User(username='raimundof', uid='1514601461', gecos='Felix Raimundo'), User(username='mangk', uid='1514601459', gecos='Kotcha Mangkalaphiban'), User(username='lidan', uid='11006', gecos='Dan Li'), User(username='haydenn', uid='11054', gecos='Nicholas Hayden'), User(username='soglop', uid='1514601465', gecos='Philip Soglo'), User(username='akgolokb', uid='11164', gecos='Betul Akgol Oksuz'), User(username='sinhar', uid='11033', gecos='Riddhimaa Sinha'), User(username='jinyonghao', uid='14007', gecos='Yonghao Jin'), User(username='wangw1', uid='10230', gecos='Wei Wang'), User(username='lixuan', uid='11008', gecos='Xuan Li')]\n",
      "liuj\n"
     ]
    }
   ],
   "source": [
    "import subprocess\n",
    "from dataclasses import dataclass\n",
    "\n",
    "@dataclass\n",
    "class User:\n",
    "    username: str = None\n",
    "    uid: str = None\n",
    "    gecos: str = None\n",
    "\n",
    "user_groups = [\"xusers\", \"zusers\", \"tusers\", \"rusers\", \"musers\"]\n",
    "result = \"\"\n",
    "for user_group in user_groups:\n",
    "    result += (subprocess.run(['getent', 'group', f\"{user_group}\"], capture_output=True, text=True)).stdout\n",
    "\n",
    "users_groups = result.strip().split('\\n')\n",
    "\n",
    "members = []\n",
    "for user_group in users_groups:\n",
    "    fields = user_group.split(':')\n",
    "    members.extend(fields[-1].split(','))\n",
    "\n",
    "user_info = []\n",
    "for member in set(members):\n",
    "    result = subprocess.run(['getent', 'passwd', f\"{member}\"], capture_output=True, text=True)\n",
    "    users_data = result.stdout.strip().split('\\n')\n",
    "\n",
    "    for user_line in users_data:\n",
    "        fields = user_line.split(':')\n",
    "        username, _, uid, _, gecos = fields[:5]\n",
    "        user_info.append(User(username, uid, gecos))\n"
   ]
  },
  {
   "cell_type": "code",
   "execution_count": null,
   "metadata": {},
   "outputs": [],
   "source": []
  }
 ],
 "metadata": {
  "kernelspec": {
   "display_name": ".venv",
   "language": "python",
   "name": "python3"
  },
  "language_info": {
   "codemirror_mode": {
    "name": "ipython",
    "version": 3
   },
   "file_extension": ".py",
   "mimetype": "text/x-python",
   "name": "python",
   "nbconvert_exporter": "python",
   "pygments_lexer": "ipython3",
   "version": "3.10.12"
  }
 },
 "nbformat": 4,
 "nbformat_minor": 2
}
