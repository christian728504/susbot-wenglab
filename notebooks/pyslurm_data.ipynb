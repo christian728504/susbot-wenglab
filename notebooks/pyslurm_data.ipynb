{
 "cells": [
  {
   "cell_type": "code",
   "execution_count": 2,
   "metadata": {},
   "outputs": [],
   "source": [
    "import polars as pl\n",
    "import pyslurm\n",
    "from IPython.display import display\n",
    "import json\n",
    "from datetime import datetime"
   ]
  },
  {
   "cell_type": "code",
   "execution_count": null,
   "metadata": {},
   "outputs": [],
   "source": [
    "with open(\"node.json\", \"w\") as f:\n",
    "    json_string = json.dumps(pyslurm.node().get())\n",
    "    json_object = json.loads(json_string)\n",
    "    json.dump(json_object, f, indent=4)"
   ]
  },
  {
   "cell_type": "code",
   "execution_count": null,
   "metadata": {},
   "outputs": [
    {
     "name": "stderr",
     "output_type": "stream",
     "text": [
      "/tmp/ipykernel_1987819/3880479719.py:48: MapWithoutReturnDtypeWarning: Calling `map_elements` without specifying `return_dtype` can lead to unpredictable results. Specify `return_dtype` to silence this warning.\n",
      "  .with_columns(\n"
     ]
    },
    {
     "data": {
      "text/html": [
       "<div><style>\n",
       ".dataframe > thead > tr,\n",
       ".dataframe > tbody > tr {\n",
       "  text-align: right;\n",
       "  white-space: pre-wrap;\n",
       "}\n",
       "</style>\n",
       "<small>shape: (5, 12)</small><table border=\"1\" class=\"dataframe\"><thead><tr><th>partitions</th><th>name</th><th>state</th><th>cpus_available</th><th>cpus</th><th>gres_available</th><th>gres</th><th>free_mem</th><th>real_memory</th><th>gres_status</th><th>cpus_status</th><th>mem_status</th></tr><tr><td>str</td><td>list[str]</td><td>list[str]</td><td>i64</td><td>i64</td><td>i64</td><td>i64</td><td>f64</td><td>f64</td><td>str</td><td>str</td><td>str</td></tr></thead><tbody><tr><td>&quot;30mins&quot;</td><td>[&quot;z1014&quot;, &quot;z1016&quot;, … &quot;z1050&quot;]</td><td>[&quot;IDLE&quot;, &quot;IDLE&quot;, … &quot;MIXED&quot;]</td><td>1472</td><td>2408</td><td>0</td><td>0</td><td>4670.0</td><td>11812.0</td><td>&quot;&quot;</td><td>&quot;1472 of 2408&quot;</td><td>&quot;4670.0 GB of 11812.0GB&quot;</td></tr><tr><td>&quot;4hours&quot;</td><td>[&quot;z1014&quot;, &quot;z1016&quot;, … &quot;z1040&quot;]</td><td>[&quot;IDLE&quot;, &quot;IDLE&quot;, … &quot;IDLE&quot;]</td><td>1040</td><td>1040</td><td>0</td><td>0</td><td>4028.0</td><td>5026.0</td><td>&quot;&quot;</td><td>&quot;1040 of 1040&quot;</td><td>&quot;4028.0 GB of 5026.0GB&quot;</td></tr><tr><td>&quot;12hours&quot;</td><td>[&quot;z1021&quot;, &quot;z1022&quot;, … &quot;z1053&quot;]</td><td>[&quot;MIXED&quot;, &quot;MIXED&quot;, … &quot;MIXED&quot;]</td><td>480</td><td>1560</td><td>0</td><td>0</td><td>869.0</td><td>7539.0</td><td>&quot;&quot;</td><td>&quot;480 of 1560&quot;</td><td>&quot;869.0 GB of 7539.0GB&quot;</td></tr><tr><td>&quot;5days&quot;</td><td>[&quot;z1014&quot;, &quot;z1016&quot;, … &quot;z1053&quot;]</td><td>[&quot;IDLE&quot;, &quot;IDLE&quot;, … &quot;MIXED&quot;]</td><td>720</td><td>1296</td><td>0</td><td>0</td><td>3270.0</td><td>6030.0</td><td>&quot;&quot;</td><td>&quot;720 of 1296&quot;</td><td>&quot;3270.0 GB of 6030.0GB&quot;</td></tr><tr><td>&quot;gpu&quot;</td><td>[&quot;z018&quot;, &quot;z019&quot;]</td><td>[&quot;IDLE&quot;, &quot;IDLE&quot;]</td><td>64</td><td>64</td><td>8</td><td>8</td><td>417.0</td><td>752.0</td><td>&quot;8 of 8&quot;</td><td>&quot;64 of 64&quot;</td><td>&quot;417.0 GB of 752.0GB&quot;</td></tr></tbody></table></div>"
      ],
      "text/plain": [
       "shape: (5, 12)\n",
       "┌───────────┬───────────┬───────────┬───────────┬───┬───────────┬───────────┬───────────┬──────────┐\n",
       "│ partition ┆ name      ┆ state     ┆ cpus_avai ┆ … ┆ real_memo ┆ gres_stat ┆ cpus_stat ┆ mem_stat │\n",
       "│ s         ┆ ---       ┆ ---       ┆ lable     ┆   ┆ ry        ┆ us        ┆ us        ┆ us       │\n",
       "│ ---       ┆ list[str] ┆ list[str] ┆ ---       ┆   ┆ ---       ┆ ---       ┆ ---       ┆ ---      │\n",
       "│ str       ┆           ┆           ┆ i64       ┆   ┆ f64       ┆ str       ┆ str       ┆ str      │\n",
       "╞═══════════╪═══════════╪═══════════╪═══════════╪═══╪═══════════╪═══════════╪═══════════╪══════════╡\n",
       "│ 30mins    ┆ [\"z1014\", ┆ [\"IDLE\",  ┆ 1472      ┆ … ┆ 11812.0   ┆           ┆ 1472 of   ┆ 4670.0   │\n",
       "│           ┆ \"z1016\",  ┆ \"IDLE\", … ┆           ┆   ┆           ┆           ┆ 2408      ┆ GB of    │\n",
       "│           ┆ …         ┆ \"MIXED\"]  ┆           ┆   ┆           ┆           ┆           ┆ 11812.0G │\n",
       "│           ┆ \"z1050\"]  ┆           ┆           ┆   ┆           ┆           ┆           ┆ B        │\n",
       "│ 4hours    ┆ [\"z1014\", ┆ [\"IDLE\",  ┆ 1040      ┆ … ┆ 5026.0    ┆           ┆ 1040 of   ┆ 4028.0   │\n",
       "│           ┆ \"z1016\",  ┆ \"IDLE\", … ┆           ┆   ┆           ┆           ┆ 1040      ┆ GB of    │\n",
       "│           ┆ …         ┆ \"IDLE\"]   ┆           ┆   ┆           ┆           ┆           ┆ 5026.0GB │\n",
       "│           ┆ \"z1040\"]  ┆           ┆           ┆   ┆           ┆           ┆           ┆          │\n",
       "│ 12hours   ┆ [\"z1021\", ┆ [\"MIXED\", ┆ 480       ┆ … ┆ 7539.0    ┆           ┆ 480 of    ┆ 869.0 GB │\n",
       "│           ┆ \"z1022\",  ┆ \"MIXED\",  ┆           ┆   ┆           ┆           ┆ 1560      ┆ of       │\n",
       "│           ┆ …         ┆ …         ┆           ┆   ┆           ┆           ┆           ┆ 7539.0GB │\n",
       "│           ┆ \"z1053\"]  ┆ \"MIXED\"]  ┆           ┆   ┆           ┆           ┆           ┆          │\n",
       "│ 5days     ┆ [\"z1014\", ┆ [\"IDLE\",  ┆ 720       ┆ … ┆ 6030.0    ┆           ┆ 720 of    ┆ 3270.0   │\n",
       "│           ┆ \"z1016\",  ┆ \"IDLE\", … ┆           ┆   ┆           ┆           ┆ 1296      ┆ GB of    │\n",
       "│           ┆ …         ┆ \"MIXED\"]  ┆           ┆   ┆           ┆           ┆           ┆ 6030.0GB │\n",
       "│           ┆ \"z1053\"]  ┆           ┆           ┆   ┆           ┆           ┆           ┆          │\n",
       "│ gpu       ┆ [\"z018\",  ┆ [\"IDLE\",  ┆ 64        ┆ … ┆ 752.0     ┆ 8 of 8    ┆ 64 of 64  ┆ 417.0 GB │\n",
       "│           ┆ \"z019\"]   ┆ \"IDLE\"]   ┆           ┆   ┆           ┆           ┆           ┆ of       │\n",
       "│           ┆           ┆           ┆           ┆   ┆           ┆           ┆           ┆ 752.0GB  │\n",
       "└───────────┴───────────┴───────────┴───────────┴───┴───────────┴───────────┴───────────┴──────────┘"
      ]
     },
     "metadata": {},
     "output_type": "display_data"
    },
    {
     "name": "stdout",
     "output_type": "stream",
     "text": [
      "(5, 12)\n"
     ]
    }
   ],
   "source": [
    "# Process node data\n",
    "\n",
    "json_string = json.dumps(pyslurm.node().get())\n",
    "json_object = json.loads(json_string)\n",
    "p = [v for v in json_object.values()]\n",
    "node_df = pl.DataFrame(p)\n",
    "node_df = node_df.drop([\"core_spec_cnt\", \"cpu_spec_list\", \"core_spec_cnt\", \"extra\", \"features\", \"features_active\", \"mcs_label\", \"mem_spec_limit\", \"owner\", \"tmp_disk\", \"reason_time\", \"reason\", \"reason_uid\", \"power_mgmt\", \"energy\"])\n",
    "node_df = node_df.with_columns(pl.col(\"last_busy\", \"slurmd_start_time\").map_elements(lambda x: datetime.fromtimestamp(x), return_dtype=pl.Datetime))\n",
    "node_df = node_df.with_columns(pl.col(\"last_busy\", \"slurmd_start_time\").map_elements(lambda x: x.strftime(\"%Y-%m-%d %H:%M:%S\"), return_dtype=pl.Utf8))\n",
    "node_df = node_df.with_columns(pl.col(\"gres\", \"gres_used\").list.first())\n",
    "node_df = node_df.with_columns(pl.col(\"gres\", \"gres_used\").map_elements(lambda x: int(x.split(\":\")[-1]) if isinstance(x, str) else x, return_dtype=pl.Int64))\n",
    "node_df = node_df.with_columns(pl.col(\"gres\", \"gres_used\").fill_null(0))\n",
    "node_df = node_df.with_columns((pl.col(\"gres\") - pl.col(\"gres_used\")).alias(\"gres_available\"))\n",
    "node_df = node_df.with_columns((pl.col(\"cpus\") - pl.col(\"alloc_cpus\")).alias(\"cpus_available\"))\n",
    "node_df = node_df.with_columns([\n",
    "    (pl.col(\"real_memory\") / 1024).floor(),\n",
    "    (pl.col(\"free_mem\") / 1024).floor()\n",
    "])\n",
    "node_df = node_df.filter(~pl.col(\"name\").is_in([f\"z0{i}\" for i in range(10, 17)]))\n",
    "node_df = node_df.explode(\"partitions\")\n",
    "node_df = node_df.group_by(\"partitions\").agg(pl.col(\"name\"), pl.col(\"state\"), pl.col(\"cpus_available\").sum(), pl.col(\"cpus\").sum(), pl.col(\"gres_available\").sum(), pl.col(\"gres\").sum(), pl.col(\"free_mem\").sum(), pl.col(\"real_memory\").sum())\n",
    "node_df = node_df.with_columns(\n",
    "    pl.concat_str([\n",
    "        pl.col(\"gres_available\").cast(pl.Utf8),\n",
    "        pl.lit(\" of \"),\n",
    "        pl.col(\"gres\").cast(pl.Utf8)\n",
    "    ]).alias(\"gres_status\")\n",
    ")\n",
    "node_df = node_df.with_columns(\n",
    "    pl.concat_str([\n",
    "        pl.col(\"cpus_available\").cast(pl.Utf8),\n",
    "        pl.lit(\" of \"),\n",
    "        pl.col(\"cpus\").cast(pl.Utf8)\n",
    "    ]).alias(\"cpus_status\")\n",
    ")\n",
    "node_df = node_df.with_columns(\n",
    "    pl.concat_str([\n",
    "        pl.col(\"free_mem\").cast(pl.Utf8),\n",
    "        pl.lit(\" GB of \"),\n",
    "        pl.col(\"real_memory\").cast(pl.Utf8),\n",
    "        pl.lit(\"GB\")\n",
    "    ]).alias(\"mem_status\")\n",
    ")\n",
    "node_df = node_df.with_columns(pl.col(\"gres_status\").replace(\"0 of 0\", \"\"))\n",
    "custom_order = [\"30mins\", \"4hours\", \"12hours\", \"5days\", \"gpu\"]\n",
    "order_dict = {val: i for i, val in enumerate(custom_order)}\n",
    "node_df = (node_df\n",
    "    .with_columns(\n",
    "        pl.col(\"partitions\").map_elements(lambda x: order_dict.get(x), return_dtype=pl.Int64).alias(\"__sort_key\")\n",
    "    )\n",
    "    .sort(\"__sort_key\")\n",
    "    .drop(\"__sort_key\")\n",
    ")\n",
    "# node_df = node_df.sort(\"partitions\")\n",
    "display(node_df.head(10))\n",
    "print(node_df.shape)"
   ]
  },
  {
   "cell_type": "code",
   "execution_count": null,
   "metadata": {},
   "outputs": [],
   "source": [
    "with open(\"jobs.json\", \"w\") as f:\n",
    "    json_string = json.dumps(pyslurm.job().get())\n",
    "    json_object = json.loads(json_string)\n",
    "    json.dump(json_object, f, indent=4)"
   ]
  },
  {
   "cell_type": "code",
   "execution_count": null,
   "metadata": {},
   "outputs": [],
   "source": [
    "jobs_json_string = json.dumps(pyslurm.job().get())\n",
    "jobs_json = json.loads(jobs_json_string)\n",
    "jobs = [dict for dict in jobs_json.values()]\n",
    "jobs_df = pl.DataFrame(jobs, infer_schema_length=None)\n",
    "jobs_df = jobs_df.drop([\"cpus_allocated\", \"cpus_alloc_layout\"])\n",
    "jobs_df = jobs_df.with_columns(pl.col(\"eligible_time\", \"end_time\", \"start_time\", \"submit_time\").map_elements(lambda x: datetime.fromtimestamp(x), return_dtype=pl.Datetime))\n",
    "display(jobs_df.head(10))"
   ]
  },
  {
   "cell_type": "code",
   "execution_count": null,
   "metadata": {},
   "outputs": [],
   "source": [
    "with open(\"statistics.json\", \"w\") as f:\n",
    "    json_string = json.dumps(pyslurm.statistics().get())\n",
    "    json_object = json.loads(json_string)\n",
    "    json.dump(json_object, f, indent=4)"
   ]
  },
  {
   "cell_type": "code",
   "execution_count": null,
   "metadata": {},
   "outputs": [],
   "source": [
    "jobs_json_string = json.dumps(pyslurm.statistics().get())\n",
    "jobs_json = json.loads(jobs_json_string)\n",
    "rpc_type_stats = jobs_json.pop(\"rpc_type_stats\")\n",
    "rpc_user_stats = jobs_json.pop(\"rpc_user_stats\")\n",
    "statistics_df_1 = pl.DataFrame(jobs_json, infer_schema_length=None)\n",
    "statistics_2 = []\n",
    "for k, v in rpc_type_stats.items():\n",
    "    v.update({\"type\": k})\n",
    "    statistics_2.append(v)\n",
    "statistics_3 = []\n",
    "for k, v in rpc_user_stats.items():\n",
    "    v.update({\"user\": k})\n",
    "    statistics_3.append(v)\n",
    "statistics_df_2 = pl.DataFrame(statistics_2)\n",
    "statistics_df_3 = pl.DataFrame(statistics_3)\n",
    "statistics_df_3 = statistics_df_3.with_columns(pl.col(\"total_time\").map_elements(lambda x: f\"{((x / 10e6))} seconds\", return_dtype=pl.Utf8).alias(\"total_time_str\"))\n",
    "display(statistics_df_1.head(10))\n",
    "display(statistics_df_2.head(10))\n",
    "display(statistics_df_3)"
   ]
  },
  {
   "cell_type": "code",
   "execution_count": null,
   "metadata": {},
   "outputs": [],
   "source": [
    "empty = pl.DataFrame()\n",
    "if empty.is_empty():\n",
    "    print(\"Falsy\")\n",
    "else:\n",
    "    print(\"Truthy\")"
   ]
  },
  {
   "cell_type": "code",
   "execution_count": null,
   "metadata": {},
   "outputs": [],
   "source": [
    "list_of_column_names = node_df.select(\"name\", \"state\").columns\n",
    "print(list_of_column_names)"
   ]
  },
  {
   "cell_type": "code",
   "execution_count": null,
   "metadata": {},
   "outputs": [],
   "source": [
    "for column in node_df.select(\"name\", \"state\").iter_columns():\n",
    "    print(column.to_list())"
   ]
  },
  {
   "cell_type": "code",
   "execution_count": 14,
   "metadata": {},
   "outputs": [
    {
     "name": "stdout",
     "output_type": "stream",
     "text": [
      "+------------+--------------+------------------------+--------+\n",
      "| Partitions |     CPUs     |         Memory         |  GPUs  |\n",
      "+------------+--------------+------------------------+--------+\n",
      "|   30mins   | 1472 of 2408 | 4670.0 GB of 11812.0GB |        |\n",
      "|   4hours   | 1040 of 1040 | 4028.0 GB of 5026.0GB  |        |\n",
      "|  12hours   | 480 of 1560  |  869.0 GB of 7539.0GB  |        |\n",
      "|   5days    | 720 of 1296  | 3270.0 GB of 6030.0GB  |        |\n",
      "|    gpu     |   64 of 64   |  417.0 GB of 752.0GB   | 8 of 8 |\n",
      "+------------+--------------+------------------------+--------+\n",
      "<class 'str'>\n"
     ]
    }
   ],
   "source": [
    "from prettytable import PrettyTable\n",
    "\n",
    "pretty_column_names = {\"partitions\": \"Partitions\", \"cpus_status\": \"CPUs\", \"mem_status\": \"Memory\", \"gres_status\": \"GPUs\"}\n",
    "    \n",
    "node_df_selection = node_df.select(\"partitions\", \"cpus_status\", \"mem_status\", \"gres_status\")\n",
    "\n",
    "table = PrettyTable()\n",
    "table.field_names = [pretty_column_names.get(col) for col in node_df_selection.columns]\n",
    "for row in node_df_selection.iter_rows():\n",
    "    table.add_row(list(row))\n",
    "\n",
    "print(table)\n",
    "print(type(table.get_string()))"
   ]
  },
  {
   "cell_type": "code",
   "execution_count": null,
   "metadata": {},
   "outputs": [],
   "source": []
  }
 ],
 "metadata": {
  "kernelspec": {
   "display_name": ".venv",
   "language": "python",
   "name": "python3"
  },
  "language_info": {
   "codemirror_mode": {
    "name": "ipython",
    "version": 3
   },
   "file_extension": ".py",
   "mimetype": "text/x-python",
   "name": "python",
   "nbconvert_exporter": "python",
   "pygments_lexer": "ipython3",
   "version": "3.10.12"
  }
 },
 "nbformat": 4,
 "nbformat_minor": 2
}
